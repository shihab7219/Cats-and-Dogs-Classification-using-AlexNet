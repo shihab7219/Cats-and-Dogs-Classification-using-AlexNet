{
  "nbformat": 4,
  "nbformat_minor": 0,
  "metadata": {
    "colab": {
      "name": "Cats and Dogs Classification using AlexNet.ipynb",
      "provenance": [],
      "collapsed_sections": []
    },
    "kernelspec": {
      "name": "python3",
      "display_name": "Python 3"
    },
    "language_info": {
      "name": "python"
    }
  },
  "cells": [
    {
      "cell_type": "code",
      "source": [
        "from google.colab import drive"
      ],
      "metadata": {
        "id": "n99bEVXRaipy"
      },
      "execution_count": null,
      "outputs": []
    },
    {
      "cell_type": "code",
      "source": [
        "drive.mount(\"/content/drive\")"
      ],
      "metadata": {
        "colab": {
          "base_uri": "https://localhost:8080/"
        },
        "id": "VETOl7Ycr2vz",
        "outputId": "35e66e94-62eb-40c4-fd11-87a0d99f69f6"
      },
      "execution_count": null,
      "outputs": [
        {
          "output_type": "stream",
          "name": "stdout",
          "text": [
            "Mounted at /content/drive\n"
          ]
        }
      ]
    },
    {
      "cell_type": "code",
      "source": [
        ""
      ],
      "metadata": {
        "id": "11TdXYgxa-Ab"
      },
      "execution_count": null,
      "outputs": []
    },
    {
      "cell_type": "code",
      "execution_count": null,
      "metadata": {
        "id": "cJyLHGZMZAtL"
      },
      "outputs": [],
      "source": [
        "import numpy as np\n",
        "import os \n",
        "import glob\n",
        "import cv2\n",
        "import matplotlib.pyplot as plt\n",
        "import datetime\n",
        "\n",
        "\n",
        "#For Nueral Network\n",
        "import tensorflow as tf\n",
        "from tensorflow.keras.models import Sequential , load_model\n",
        "from tensorflow.keras.layers import Conv2D , MaxPooling2D, AveragePooling2D , Dense , Flatten \n",
        "\n",
        "#For Image preprocessing\n",
        "from sklearn.preprocessing import LabelEncoder , OneHotEncoder\n",
        "from sklearn.model_selection import train_test_split\n",
        "\n",
        "import warnings as wr\n",
        "wr.filterwarnings(\"ignore\")\n",
        "\n",
        "%matplotlib inline"
      ]
    },
    {
      "cell_type": "code",
      "source": [
        "trainDataPath = \"/content/train/\"\n"
      ],
      "metadata": {
        "id": "6G7VApp1ZqI4"
      },
      "execution_count": null,
      "outputs": []
    },
    {
      "cell_type": "code",
      "source": [
        "len(os.listdir(trainDataPath))"
      ],
      "metadata": {
        "colab": {
          "base_uri": "https://localhost:8080/"
        },
        "id": "Od9lwQ2W4X3o",
        "outputId": "455bdc44-591b-43ba-cdc4-5aecb88ab589"
      },
      "execution_count": null,
      "outputs": [
        {
          "output_type": "execute_result",
          "data": {
            "text/plain": [
              "7421"
            ]
          },
          "metadata": {},
          "execution_count": 5
        }
      ]
    },
    {
      "cell_type": "code",
      "source": [
        "trainImagePath = os.path.join(trainDataPath, \"*g\")"
      ],
      "metadata": {
        "id": "TVrkOxGc46oa"
      },
      "execution_count": null,
      "outputs": []
    },
    {
      "cell_type": "code",
      "source": [
        "imageFile = glob.glob(trainImagePath)"
      ],
      "metadata": {
        "id": "bnl6614T5MRL"
      },
      "execution_count": null,
      "outputs": []
    },
    {
      "cell_type": "code",
      "source": [
        "trainImagePath"
      ],
      "metadata": {
        "colab": {
          "base_uri": "https://localhost:8080/",
          "height": 35
        },
        "id": "ZxaJ_aMl5KA8",
        "outputId": "0877834d-cfb8-4f3b-acb1-cc1d1cd2d989"
      },
      "execution_count": null,
      "outputs": [
        {
          "output_type": "execute_result",
          "data": {
            "text/plain": [
              "'/content/train/*g'"
            ],
            "application/vnd.google.colaboratory.intrinsic+json": {
              "type": "string"
            }
          },
          "metadata": {},
          "execution_count": 8
        }
      ]
    },
    {
      "cell_type": "code",
      "source": [
        "#imageFile"
      ],
      "metadata": {
        "id": "0U1TnLXe6FNJ"
      },
      "execution_count": null,
      "outputs": []
    },
    {
      "cell_type": "code",
      "source": [
        "def imageFeatureExtrac(image , size = (224,224)):\n",
        "    \n",
        "    img = cv2.resize(image , size)\n",
        "   \n",
        "    \n",
        "    return img\n",
        "    "
      ],
      "metadata": {
        "id": "4oOxZEiu6uSb"
      },
      "execution_count": null,
      "outputs": []
    },
    {
      "cell_type": "code",
      "source": [
        "data = []\n",
        "\n",
        "classes = []\n",
        "\n",
        "for i , file in enumerate(imageFile):\n",
        "    image = cv2.imread(file)\n",
        "    feature = cv2.resize(image , (224,224))\n",
        "    data.append(feature)\n",
        "    classesNames = file.split(os.path.sep)[-1].split(\".\")[0]\n",
        "    classes.append(classesNames)\n"
      ],
      "metadata": {
        "id": "GXa_rwDhc2m_"
      },
      "execution_count": null,
      "outputs": []
    },
    {
      "cell_type": "code",
      "source": [
        "np.unique(classes)"
      ],
      "metadata": {
        "id": "GRKgAXZ7emf9",
        "colab": {
          "base_uri": "https://localhost:8080/"
        },
        "outputId": "127a1c28-fe54-4acb-d112-93aed7624b3c"
      },
      "execution_count": null,
      "outputs": [
        {
          "output_type": "execute_result",
          "data": {
            "text/plain": [
              "array(['cat', 'dog'], dtype='<U3')"
            ]
          },
          "metadata": {},
          "execution_count": 11
        }
      ]
    },
    {
      "cell_type": "code",
      "source": [
        "imageData = np.array(data,dtype=\"uint8\")"
      ],
      "metadata": {
        "id": "ttFBUNYleA2Z"
      },
      "execution_count": null,
      "outputs": []
    },
    {
      "cell_type": "code",
      "source": [
        "labels = np.array(classes)"
      ],
      "metadata": {
        "id": "Hf5yrjoWeBto"
      },
      "execution_count": null,
      "outputs": []
    },
    {
      "cell_type": "code",
      "source": [
        "imageData[0]\n"
      ],
      "metadata": {
        "id": "DAF4E6SYekj5",
        "colab": {
          "base_uri": "https://localhost:8080/"
        },
        "outputId": "d48876de-b423-4a9f-d142-317676781083"
      },
      "execution_count": null,
      "outputs": [
        {
          "output_type": "execute_result",
          "data": {
            "text/plain": [
              "array([[[178, 199, 200],\n",
              "        [170, 191, 192],\n",
              "        [168, 189, 191],\n",
              "        ...,\n",
              "        [ 20,   7,  15],\n",
              "        [ 26,  10,  10],\n",
              "        [ 29,  13,  10]],\n",
              "\n",
              "       [[182, 203, 204],\n",
              "        [181, 202, 203],\n",
              "        [175, 196, 198],\n",
              "        ...,\n",
              "        [ 18,   5,  13],\n",
              "        [ 19,   5,   6],\n",
              "        [ 23,   8,   6]],\n",
              "\n",
              "       [[179, 200, 201],\n",
              "        [176, 197, 198],\n",
              "        [174, 196, 197],\n",
              "        ...,\n",
              "        [ 13,   3,  10],\n",
              "        [ 12,   1,   2],\n",
              "        [ 16,   3,   4]],\n",
              "\n",
              "       ...,\n",
              "\n",
              "       [[118, 122, 163],\n",
              "        [125, 126, 170],\n",
              "        [122, 118, 165],\n",
              "        ...,\n",
              "        [  7,   1,   2],\n",
              "        [  6,   1,   2],\n",
              "        [  4,   2,   2]],\n",
              "\n",
              "       [[122, 126, 167],\n",
              "        [128, 127, 171],\n",
              "        [130, 124, 171],\n",
              "        ...,\n",
              "        [  7,   1,   2],\n",
              "        [  6,   1,   2],\n",
              "        [  4,   2,   2]],\n",
              "\n",
              "       [[129, 131, 172],\n",
              "        [130, 129, 173],\n",
              "        [136, 130, 177],\n",
              "        ...,\n",
              "        [  7,   1,   2],\n",
              "        [  6,   1,   2],\n",
              "        [  4,   2,   2]]], dtype=uint8)"
            ]
          },
          "metadata": {},
          "execution_count": 14
        }
      ]
    },
    {
      "cell_type": "code",
      "source": [
        "inputShape = imageData[0].shape\n",
        "inputShape"
      ],
      "metadata": {
        "id": "xJAMWFemeWVz",
        "colab": {
          "base_uri": "https://localhost:8080/"
        },
        "outputId": "7e66c9a3-bac1-4ce0-b24b-2c88f0a160f6"
      },
      "execution_count": null,
      "outputs": [
        {
          "output_type": "execute_result",
          "data": {
            "text/plain": [
              "(224, 224, 3)"
            ]
          },
          "metadata": {},
          "execution_count": 15
        }
      ]
    },
    {
      "cell_type": "code",
      "source": [
        "labelEncoderValues = LabelEncoder().fit_transform(labels)\n",
        "np.unique(labelEncoderValues)"
      ],
      "metadata": {
        "id": "qe4c2lw4ec5y",
        "colab": {
          "base_uri": "https://localhost:8080/"
        },
        "outputId": "dbf5c9df-8f61-4e83-839d-9b3fbb4fe0c6"
      },
      "execution_count": null,
      "outputs": [
        {
          "output_type": "execute_result",
          "data": {
            "text/plain": [
              "array([0, 1])"
            ]
          },
          "metadata": {},
          "execution_count": 16
        }
      ]
    },
    {
      "cell_type": "code",
      "source": [
        "labelEncoderValues = labelEncoderValues.reshape(len(labelEncoderValues),1)\n",
        "classes = OneHotEncoder(sparse=False).fit_transform(labelEncoderValues)"
      ],
      "metadata": {
        "id": "hgpIKJTHe7Uk"
      },
      "execution_count": null,
      "outputs": []
    },
    {
      "cell_type": "code",
      "source": [
        "np.unique(classes)"
      ],
      "metadata": {
        "id": "ypdDKPYVffJs",
        "colab": {
          "base_uri": "https://localhost:8080/"
        },
        "outputId": "2904b2a0-0940-4600-d866-939b22e9e9d8"
      },
      "execution_count": null,
      "outputs": [
        {
          "output_type": "execute_result",
          "data": {
            "text/plain": [
              "array([0., 1.])"
            ]
          },
          "metadata": {},
          "execution_count": 18
        }
      ]
    },
    {
      "cell_type": "code",
      "source": [
        "print(f\"Length of ImageData = {len(imageData)}\\nLength of Classes = {len(classes)}\")\n"
      ],
      "metadata": {
        "id": "kPzteIpAffG2",
        "colab": {
          "base_uri": "https://localhost:8080/"
        },
        "outputId": "4772cf67-33ad-464a-da2d-01d072d6471e"
      },
      "execution_count": null,
      "outputs": [
        {
          "output_type": "stream",
          "name": "stdout",
          "text": [
            "Length of ImageData = 7420\n",
            "Length of Classes = 7420\n"
          ]
        }
      ]
    },
    {
      "cell_type": "code",
      "source": [
        "#Separate Dataset\n",
        "\n",
        "xtrain,xtest,ytrain,ytest = train_test_split(imageData , classes , test_size = 0.20 , random_state = 1)"
      ],
      "metadata": {
        "id": "-QdS_BhxffEK"
      },
      "execution_count": null,
      "outputs": []
    },
    {
      "cell_type": "code",
      "source": [
        "print(f\"Length of Xtrain = {len(xtrain)}\\nLength of Ytrain = {len(ytrain)}\\nLength of Xtest = {len(xtest)}\\nLength of ytest = {len(xtest)}\")"
      ],
      "metadata": {
        "id": "eqgIEvT5ffA1",
        "colab": {
          "base_uri": "https://localhost:8080/"
        },
        "outputId": "f4323094-ce23-4e9a-8a74-fc13857f5d2b"
      },
      "execution_count": null,
      "outputs": [
        {
          "output_type": "stream",
          "name": "stdout",
          "text": [
            "Length of Xtrain = 5936\n",
            "Length of Ytrain = 5936\n",
            "Length of Xtest = 1484\n",
            "Length of ytest = 1484\n"
          ]
        }
      ]
    },
    {
      "cell_type": "code",
      "source": [
        "#Model Architecture\n",
        "\n",
        "class AlexNet(Sequential):\n",
        "\n",
        "  def __init__(self , InputShape , NumberOfClass):\n",
        "      super().__init__()\n",
        "\n",
        "      #1st Layer\n",
        "      self.add(Conv2D(filters = 96 , kernel_size = (11,11) , strides = (4,4) , padding = \"valid\" , activation =\"relu\" , input_shape = InputShape)),\n",
        "      self.add(MaxPooling2D(pool_size=(3,3) , strides=(2,2) , padding = \"valid\" , data_format=None)),\n",
        "\n",
        "      #2nd Layer\n",
        "      self.add(Conv2D(filters = 256 , kernel_size = (5,5) , strides = 1 , padding = \"same\" , activation =\"relu\")),\n",
        "      self.add(MaxPooling2D(pool_size=(3,3) , strides=(2,2) , padding = \"valid\" , data_format=None)),\n",
        "\n",
        "      #3rd Layer\n",
        "      self.add(Conv2D(filters = 384 , kernel_size = (3,3) , strides = 1 , padding = \"same\" , activation =\"relu\")),\n",
        "\n",
        "      #4th Layer\n",
        "      self.add(Conv2D(filters = 384 , kernel_size = (3,3) , strides = 1 , padding = \"same\" , activation =\"relu\")),\n",
        "\n",
        "      #5th Layer\n",
        "      self.add(Conv2D(filters = 384 , kernel_size = (3,3) , strides = 1 , padding = \"same\" , activation =\"relu\")),\n",
        "      self.add(MaxPooling2D(pool_size=(3,3) , strides=(2,2) , padding = \"valid\" , data_format=None)),\n",
        "\n",
        "      #Flatten Layer\n",
        "      self.add(Flatten()),\n",
        "\n",
        "\n",
        "      #Dense Layers\n",
        "      self.add(Dense(4096,activation = \"relu\")),\n",
        "      self.add(Dense(4096 , activation = \"relu\")),\n",
        "      self.add(Dense(NumberOfClass , activation = \"softmax\")),\n",
        "\n",
        "      #Model Compile\n",
        "      self.compile(\n",
        "        optimizer = \"adam\",\n",
        "        loss = \"categorical_crossentropy\",\n",
        "        metrics = [\"accuracy\"]\n",
        "      )\n",
        "\n",
        "\n",
        "\n"
      ],
      "metadata": {
        "id": "CC1G5hgyfeye"
      },
      "execution_count": null,
      "outputs": []
    },
    {
      "cell_type": "code",
      "source": [
        ""
      ],
      "metadata": {
        "id": "w1vNnqxjY2Q_"
      },
      "execution_count": null,
      "outputs": []
    },
    {
      "cell_type": "code",
      "source": [
        "numOfClass = len(np.unique(classes))"
      ],
      "metadata": {
        "id": "x_y8bgzgk2Sn"
      },
      "execution_count": null,
      "outputs": []
    },
    {
      "cell_type": "code",
      "source": [
        "model = AlexNet(inputShape , numOfClass)"
      ],
      "metadata": {
        "id": "CHqKYl66kmbw"
      },
      "execution_count": null,
      "outputs": []
    },
    {
      "cell_type": "code",
      "source": [
        "model.summary()"
      ],
      "metadata": {
        "colab": {
          "base_uri": "https://localhost:8080/"
        },
        "id": "m0Y-NqV9Y3wP",
        "outputId": "5d694924-eac6-4901-afa8-674bbc0aea1a"
      },
      "execution_count": null,
      "outputs": [
        {
          "output_type": "stream",
          "name": "stdout",
          "text": [
            "Model: \"alex_net\"\n",
            "_________________________________________________________________\n",
            " Layer (type)                Output Shape              Param #   \n",
            "=================================================================\n",
            " conv2d (Conv2D)             (None, 54, 54, 96)        34944     \n",
            "                                                                 \n",
            " max_pooling2d (MaxPooling2D  (None, 26, 26, 96)       0         \n",
            " )                                                               \n",
            "                                                                 \n",
            " conv2d_1 (Conv2D)           (None, 26, 26, 256)       614656    \n",
            "                                                                 \n",
            " max_pooling2d_1 (MaxPooling  (None, 12, 12, 256)      0         \n",
            " 2D)                                                             \n",
            "                                                                 \n",
            " conv2d_2 (Conv2D)           (None, 12, 12, 384)       885120    \n",
            "                                                                 \n",
            " conv2d_3 (Conv2D)           (None, 12, 12, 384)       1327488   \n",
            "                                                                 \n",
            " conv2d_4 (Conv2D)           (None, 12, 12, 384)       1327488   \n",
            "                                                                 \n",
            " max_pooling2d_2 (MaxPooling  (None, 5, 5, 384)        0         \n",
            " 2D)                                                             \n",
            "                                                                 \n",
            " flatten (Flatten)           (None, 9600)              0         \n",
            "                                                                 \n",
            " dense (Dense)               (None, 4096)              39325696  \n",
            "                                                                 \n",
            " dense_1 (Dense)             (None, 4096)              16781312  \n",
            "                                                                 \n",
            " dense_2 (Dense)             (None, 2)                 8194      \n",
            "                                                                 \n",
            "=================================================================\n",
            "Total params: 60,304,898\n",
            "Trainable params: 60,304,898\n",
            "Non-trainable params: 0\n",
            "_________________________________________________________________\n"
          ]
        }
      ]
    },
    {
      "cell_type": "code",
      "source": [
        "logsData = \"logs/fit/\" + datetime.datetime.now().strftime(\"%Y%m%d-%H%M%S\")\n",
        "callbacks = tf.keras.callbacks.TensorBoard(log_dir = logsData , histogram_freq = 1)"
      ],
      "metadata": {
        "id": "tzApAO8-Ys63"
      },
      "execution_count": null,
      "outputs": []
    },
    {
      "cell_type": "code",
      "source": [
        "\n",
        "history = model.fit(\n",
        "    \n",
        "    xtrain , ytrain,\n",
        "    validation_data = (xtest , ytest) , \n",
        "    callbacks = [callbacks],\n",
        "    epochs = 1,\n",
        "    verbose = 1)"
      ],
      "metadata": {
        "colab": {
          "base_uri": "https://localhost:8080/"
        },
        "id": "0T5QcMBVYdKl",
        "outputId": "9f35f31c-97c5-4feb-ea0a-2dc00da995e5"
      },
      "execution_count": null,
      "outputs": [
        {
          "output_type": "stream",
          "name": "stdout",
          "text": [
            "186/186 [==============================] - ETA: 0s - loss: 105.3361 - accuracy: 0.4978"
          ]
        }
      ]
    },
    {
      "cell_type": "code",
      "source": [
        ""
      ],
      "metadata": {
        "id": "3j-Ww8ymaRqs"
      },
      "execution_count": null,
      "outputs": []
    },
    {
      "cell_type": "code",
      "source": [
        ""
      ],
      "metadata": {
        "id": "jd3XHdFzaYAq"
      },
      "execution_count": null,
      "outputs": []
    },
    {
      "cell_type": "code",
      "source": [
        "model.save(\"Models1/CatsAndDogs.h5\")"
      ],
      "metadata": {
        "id": "slXpoGHzaX8r"
      },
      "execution_count": null,
      "outputs": []
    },
    {
      "cell_type": "code",
      "source": [
        "classData = [\"cat\" , \"dog\"]\n",
        "\n",
        "saveModel = load_model(\"Models1/CatsAndDogs.h5\")"
      ],
      "metadata": {
        "id": "P8E9xbw_adT7"
      },
      "execution_count": null,
      "outputs": []
    },
    {
      "cell_type": "code",
      "source": [
        "testImageData = cv2.imread(\"test/test/100.jpg\")\n",
        "imageDataFeature = imageFeatureExtrac(testImageData)/255.0\n",
        "imageDataFeature = np.array([imageDataFeature])"
      ],
      "metadata": {
        "id": "tMv3pzE-af6Q"
      },
      "execution_count": null,
      "outputs": []
    },
    {
      "cell_type": "code",
      "source": [
        "imageDataFeature.shape"
      ],
      "metadata": {
        "id": "z8XfC9wSay_n"
      },
      "execution_count": null,
      "outputs": []
    },
    {
      "cell_type": "code",
      "source": [
        "probability = saveModel.predict(imageDataFeature)[0]"
      ],
      "metadata": {
        "id": "dSPDqGnmarR9"
      },
      "execution_count": null,
      "outputs": []
    },
    {
      "cell_type": "code",
      "source": [
        "probability"
      ],
      "metadata": {
        "id": "vVDYZVISa5kW"
      },
      "execution_count": null,
      "outputs": []
    },
    {
      "cell_type": "code",
      "source": [
        "probaMax = probability.argmax(axis = 0)\n",
        "probaMax"
      ],
      "metadata": {
        "id": "_fzWvevMa7sN"
      },
      "execution_count": null,
      "outputs": []
    },
    {
      "cell_type": "code",
      "source": [
        "imageDataLabels = f\"{classData[probaMax]} , {probability[probaMax]*100}\"\n",
        "\n",
        "cv2.putText(testImageData , imageDataLabels , (10,35) , cv2.FONT_HERSHEY_COMPLEX , 1.0, (0,255,0) ,3)\n",
        "\n",
        "plt.imshow(testImageData , cmap=  \"gray\")\n",
        "plt.show"
      ],
      "metadata": {
        "id": "kGwge7LjbBnn"
      },
      "execution_count": null,
      "outputs": []
    }
  ]
}